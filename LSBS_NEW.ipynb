{
 "cells": [
  {
   "cell_type": "code",
   "execution_count": 21,
   "metadata": {},
   "outputs": [],
   "source": [
    "from PIL import Image\n",
    "import binascii\n",
    "import optparse"
   ]
  },
  {
   "cell_type": "code",
   "execution_count": 22,
   "metadata": {},
   "outputs": [],
   "source": [
    "def rgb2hex(r,g,b):\n",
    "    return '#{:02x}{:02x}{:02x}'.format(r,g,b)"
   ]
  },
  {
   "cell_type": "code",
   "execution_count": 23,
   "metadata": {},
   "outputs": [],
   "source": [
    "def hex2rgb(hexcode):\n",
    "    return tuple(map(ord,hexcode[1:].decode('hex')))\n"
   ]
  },
  {
   "cell_type": "code",
   "execution_count": 24,
   "metadata": {},
   "outputs": [],
   "source": [
    "def str2bin(message):\n",
    "    binary=bin(int(binascii.hexlify(message),16))\n",
    "    return binary[2:]"
   ]
  },
  {
   "cell_type": "code",
   "execution_count": 25,
   "metadata": {},
   "outputs": [],
   "source": [
    "def bin2str(binary):\n",
    "    message=binascii.unhexlify('%x'%(int('08b'+binary,2)))\n",
    "    return message"
   ]
  },
  {
   "cell_type": "code",
   "execution_count": 26,
   "metadata": {},
   "outputs": [],
   "source": [
    "def encode(hexcode,digit):\n",
    "    if hexcode[-1] in ('0','1','2','3','4','5'):\n",
    "        hexcode=hexcode[:-1]+digit\n",
    "        return hexcode\n",
    "    else:\n",
    "        return None\n",
    "        "
   ]
  },
  {
   "cell_type": "code",
   "execution_count": 27,
   "metadata": {},
   "outputs": [],
   "source": [
    "def decode(hexcode):\n",
    "    if hexcode[-1] in ('0','1'):\n",
    "        return hexcode[-1]\n",
    "    else:\n",
    "        return None\n",
    "    "
   ]
  },
  {
   "cell_type": "code",
   "execution_count": 28,
   "metadata": {},
   "outputs": [],
   "source": [
    "def hide(filename,message):\n",
    "    img=Image.open(filename)\n",
    "    binary=str2bin(message)+'1111111111111110'\n",
    "    if img.mode in ('RGBA'):\n",
    "        img=img.convert('RGBA')\n",
    "        datas=img.getdata()\n",
    "        newData=[]\n",
    "        digit=0\n",
    "        temp=''\n",
    "        for item in datas:\n",
    "            if(digit<len(binary)):\n",
    "                newpix=encode(rgb2hex(item[0],item[1],item[2]),binary[digit])\n",
    "                if newpix==None:\n",
    "                    newData.append(item)\n",
    "                else:\n",
    "                    r,g,b=hex2rgb(newpix)\n",
    "                    newData.append(r,g,b,255)\n",
    "                    digit +=1\n",
    "            else:\n",
    "                newData.append(item)\n",
    "            img.putdata(newData)\n",
    "            img.save(filename,\"PNG\")\n",
    "            return \"Completed!\"\n",
    "        return \"Incorred Image\"\n",
    "                     "
   ]
  },
  {
   "cell_type": "code",
   "execution_count": 30,
   "metadata": {},
   "outputs": [],
   "source": [
    "def retr(filename):\n",
    "    img=Image.open(filename)\n",
    "    binary=''\n",
    "    \n",
    "    if img.mode in ('RGBA'):\n",
    "        img=img.convert('RGBA')\n",
    "        datas=img.getdata()\n",
    "        \n",
    "        for item in datas:\n",
    "            digit=decode(rgb2hex(item[0],item[1],item[2]))\n",
    "            if digit==None:\n",
    "                pass\n",
    "            else:\n",
    "                binary=binary+digit\n",
    "                if(binary[-16]=='1111111111111110'):\n",
    "                    print (\"Success\")\n",
    "                    return bin2str(binary[:-16])\n",
    "        return bin2str(binary)\n",
    "    return \"Incorrect\""
   ]
  },
  {
   "cell_type": "code",
   "execution_count": null,
   "metadata": {},
   "outputs": [],
   "source": []
  },
  {
   "cell_type": "code",
   "execution_count": null,
   "metadata": {},
   "outputs": [],
   "source": [
    "if __name__ == '__main__' : \n",
    "    main()"
   ]
  },
  {
   "cell_type": "code",
   "execution_count": null,
   "metadata": {},
   "outputs": [],
   "source": []
  }
 ],
 "metadata": {
  "kernelspec": {
   "display_name": "Python 3",
   "language": "python",
   "name": "python3"
  },
  "language_info": {
   "codemirror_mode": {
    "name": "ipython",
    "version": 3
   },
   "file_extension": ".py",
   "mimetype": "text/x-python",
   "name": "python",
   "nbconvert_exporter": "python",
   "pygments_lexer": "ipython3",
   "version": "3.6.5"
  }
 },
 "nbformat": 4,
 "nbformat_minor": 2
}
