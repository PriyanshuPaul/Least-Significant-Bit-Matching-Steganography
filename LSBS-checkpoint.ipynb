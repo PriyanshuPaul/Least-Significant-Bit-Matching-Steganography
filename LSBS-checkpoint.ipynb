{
 "cells": [
  {
   "cell_type": "code",
   "execution_count": 35,
   "metadata": {},
   "outputs": [],
   "source": [
    "from PIL import Image\n",
    "import cv2\n",
    "import numpy as np"
   ]
  },
  {
   "cell_type": "code",
   "execution_count": 36,
   "metadata": {},
   "outputs": [],
   "source": [
    "def genData(text):\n",
    "    newd=[]\n",
    "    for i in text:\n",
    "        #a=ord(i)\n",
    "        #b=format(a,'08b')\n",
    "        #newd.append(b)\n",
    "        newd.append(format(ord(i),'08b'))\n",
    "    return newd\n",
    "        "
   ]
  },
  {
   "cell_type": "code",
   "execution_count": 37,
   "metadata": {},
   "outputs": [],
   "source": [
    "def modPix(pix,data):\n",
    "    datalist=genData(data)\n",
    "    lendata=len(datalist)\n",
    "    imdata=iter(pix)\n",
    "    \n",
    "    for i in range(lendata):\n",
    "        pix=[value for value in imdata.__next__()[:3]+imdata.__next__()[:3]+imdata.__next__()[:3]]\n",
    "        \n",
    "        for j in range(0,8):\n",
    "            if(datalist[i][j]=='1') and (pix[j] %2 != 0):\n",
    "                if(pix[j]%2 !=0):\n",
    "                    pix[j]-=1\n",
    "            elif(datalist[i][j]=='1' and (pix[j]%2 ==0)):\n",
    "                pix[j]-=1\n",
    "                \n",
    "        if(i==lendata-1):\n",
    "            if(pix[-1]%2==0):\n",
    "                pix[-1]-=1\n",
    "        else:\n",
    "            if(pix[-1]%2!=0):\n",
    "                pix[-1]-=1\n",
    "                \n",
    "        pix=tuple(pix)\n",
    "        yield pix[0:3]\n",
    "        yield pix[3:6]\n",
    "        yield pix[6:9]\n",
    "            \n",
    "            \n",
    "    "
   ]
  },
  {
   "cell_type": "code",
   "execution_count": 38,
   "metadata": {},
   "outputs": [],
   "source": [
    "def encode_enc(newimg,data):\n",
    "    w=newimg.size[0]\n",
    "    (x,y)=(0,0)\n",
    "    for pixel in modPix(newimg.getdata(),data):\n",
    "        newimg.putpixel((x,y),pixel)\n",
    "        if(x==w-1):\n",
    "            x=0\n",
    "            y+=1\n",
    "        else:\n",
    "            x+=1\n",
    "    "
   ]
  },
  {
   "cell_type": "code",
   "execution_count": 39,
   "metadata": {},
   "outputs": [],
   "source": [
    "def encode():\n",
    "    img=input(\"Enter name of image: \")\n",
    "    image=Image.open(img,'r')\n",
    "    data=input(\"Enter data to put inside: \")\n",
    "    if(len(data)==0):\n",
    "        raise ValueError('Data is empty')\n",
    "        \n",
    "    newimg=image.copy()\n",
    "    encode_enc(newimg,data)\n",
    "    new_img_name=input(\"Enter name of new image you want to save\")\n",
    "    newimg.save(new_img_name, str(new_img_name.split(\".\")[1].upper()))"
   ]
  },
  {
   "cell_type": "code",
   "execution_count": 40,
   "metadata": {},
   "outputs": [],
   "source": [
    "def decode(): \n",
    "    img = input(\"Enter image name(with extension) :\") \n",
    "   # image = Image.open(img, 'r') \n",
    "    image = np.array(Image.open(img))\n",
    "    c_img=cv2.resize(image,(500,500))\n",
    "      \n",
    "    data = '' \n",
    "    imgdata = iter(c_image.getdata()) \n",
    "      \n",
    "    while (True): \n",
    "        pixels = [value for value in imgdata.__next__()[:3] +imgdata.__next__()[:3] +imgdata.__next__()[:3]] \n",
    "        # string of binary data \n",
    "        binstr = '' \n",
    "          \n",
    "        for i in pixels[:8]: \n",
    "            if (i % 2 == 0): \n",
    "                binstr += '0'\n",
    "            else: \n",
    "                binstr += '1'\n",
    "                  \n",
    "        data += chr(int(binstr, 2)) \n",
    "        if (pixels[-1] % 2 != 0): \n",
    "            return data \n"
   ]
  },
  {
   "cell_type": "code",
   "execution_count": 41,
   "metadata": {},
   "outputs": [],
   "source": [
    "def main():\n",
    "    a=int(input(\"1.Encode 2.Decode\"))\n",
    "    if(a==1):\n",
    "          encode()\n",
    "    elif(a==2):\n",
    "          print(\"Decoded Word \"+decode())\n",
    "    else:\n",
    "          raise Exception(\"Enter correct input\")"
   ]
  },
  {
   "cell_type": "code",
   "execution_count": 43,
   "metadata": {},
   "outputs": [
    {
     "name": "stdout",
     "output_type": "stream",
     "text": [
      "1.Encode 2.Decode2\n",
      "Enter image name(with extension) :test.png\n"
     ]
    },
    {
     "ename": "NameError",
     "evalue": "name 'c_image' is not defined",
     "output_type": "error",
     "traceback": [
      "\u001b[1;31m---------------------------------------------------------------------------\u001b[0m",
      "\u001b[1;31mNameError\u001b[0m                                 Traceback (most recent call last)",
      "\u001b[1;32m<ipython-input-43-07f6fb838427>\u001b[0m in \u001b[0;36m<module>\u001b[1;34m\u001b[0m\n\u001b[0;32m      1\u001b[0m \u001b[1;32mif\u001b[0m \u001b[0m__name__\u001b[0m \u001b[1;33m==\u001b[0m \u001b[1;34m'__main__'\u001b[0m \u001b[1;33m:\u001b[0m\u001b[1;33m\u001b[0m\u001b[1;33m\u001b[0m\u001b[0m\n\u001b[1;32m----> 2\u001b[1;33m     \u001b[0mmain\u001b[0m\u001b[1;33m(\u001b[0m\u001b[1;33m)\u001b[0m\u001b[1;33m\u001b[0m\u001b[1;33m\u001b[0m\u001b[0m\n\u001b[0m",
      "\u001b[1;32m<ipython-input-41-5f133eb780ed>\u001b[0m in \u001b[0;36mmain\u001b[1;34m()\u001b[0m\n\u001b[0;32m      4\u001b[0m           \u001b[0mencode\u001b[0m\u001b[1;33m(\u001b[0m\u001b[1;33m)\u001b[0m\u001b[1;33m\u001b[0m\u001b[1;33m\u001b[0m\u001b[0m\n\u001b[0;32m      5\u001b[0m     \u001b[1;32melif\u001b[0m\u001b[1;33m(\u001b[0m\u001b[0ma\u001b[0m\u001b[1;33m==\u001b[0m\u001b[1;36m2\u001b[0m\u001b[1;33m)\u001b[0m\u001b[1;33m:\u001b[0m\u001b[1;33m\u001b[0m\u001b[1;33m\u001b[0m\u001b[0m\n\u001b[1;32m----> 6\u001b[1;33m           \u001b[0mprint\u001b[0m\u001b[1;33m(\u001b[0m\u001b[1;34m\"Decoded Word \"\u001b[0m\u001b[1;33m+\u001b[0m\u001b[0mdecode\u001b[0m\u001b[1;33m(\u001b[0m\u001b[1;33m)\u001b[0m\u001b[1;33m)\u001b[0m\u001b[1;33m\u001b[0m\u001b[1;33m\u001b[0m\u001b[0m\n\u001b[0m\u001b[0;32m      7\u001b[0m     \u001b[1;32melse\u001b[0m\u001b[1;33m:\u001b[0m\u001b[1;33m\u001b[0m\u001b[1;33m\u001b[0m\u001b[0m\n\u001b[0;32m      8\u001b[0m           \u001b[1;32mraise\u001b[0m \u001b[0mException\u001b[0m\u001b[1;33m(\u001b[0m\u001b[1;34m\"Enter correct input\"\u001b[0m\u001b[1;33m)\u001b[0m\u001b[1;33m\u001b[0m\u001b[1;33m\u001b[0m\u001b[0m\n",
      "\u001b[1;32m<ipython-input-40-ddc2b77742e2>\u001b[0m in \u001b[0;36mdecode\u001b[1;34m()\u001b[0m\n\u001b[0;32m      7\u001b[0m \u001b[1;33m\u001b[0m\u001b[0m\n\u001b[0;32m      8\u001b[0m     \u001b[0mdata\u001b[0m \u001b[1;33m=\u001b[0m \u001b[1;34m''\u001b[0m\u001b[1;33m\u001b[0m\u001b[1;33m\u001b[0m\u001b[0m\n\u001b[1;32m----> 9\u001b[1;33m     \u001b[0mimgdata\u001b[0m \u001b[1;33m=\u001b[0m \u001b[0miter\u001b[0m\u001b[1;33m(\u001b[0m\u001b[0mc_image\u001b[0m\u001b[1;33m.\u001b[0m\u001b[0mgetdata\u001b[0m\u001b[1;33m(\u001b[0m\u001b[1;33m)\u001b[0m\u001b[1;33m)\u001b[0m\u001b[1;33m\u001b[0m\u001b[1;33m\u001b[0m\u001b[0m\n\u001b[0m\u001b[0;32m     10\u001b[0m \u001b[1;33m\u001b[0m\u001b[0m\n\u001b[0;32m     11\u001b[0m     \u001b[1;32mwhile\u001b[0m \u001b[1;33m(\u001b[0m\u001b[1;32mTrue\u001b[0m\u001b[1;33m)\u001b[0m\u001b[1;33m:\u001b[0m\u001b[1;33m\u001b[0m\u001b[1;33m\u001b[0m\u001b[0m\n",
      "\u001b[1;31mNameError\u001b[0m: name 'c_image' is not defined"
     ]
    }
   ],
   "source": [
    "if __name__ == '__main__' : \n",
    "    main()"
   ]
  },
  {
   "cell_type": "code",
   "execution_count": null,
   "metadata": {},
   "outputs": [],
   "source": []
  },
  {
   "cell_type": "code",
   "execution_count": null,
   "metadata": {},
   "outputs": [],
   "source": []
  },
  {
   "cell_type": "code",
   "execution_count": null,
   "metadata": {},
   "outputs": [],
   "source": []
  }
 ],
 "metadata": {
  "kernelspec": {
   "display_name": "Python 3",
   "language": "python",
   "name": "python3"
  },
  "language_info": {
   "codemirror_mode": {
    "name": "ipython",
    "version": 3
   },
   "file_extension": ".py",
   "mimetype": "text/x-python",
   "name": "python",
   "nbconvert_exporter": "python",
   "pygments_lexer": "ipython3",
   "version": "3.7.4"
  }
 },
 "nbformat": 4,
 "nbformat_minor": 2
}
